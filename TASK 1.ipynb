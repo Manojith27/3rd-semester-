{
 "cells": [
  {
   "cell_type": "code",
   "execution_count": 6,
   "id": "69267dc7",
   "metadata": {},
   "outputs": [],
   "source": [
    "Place={'HOME':['SUNDARAM PAINTS'],\n",
    "       'SUNDARAM PAINTS':['TAMIL UNIVERSITY'],\n",
    "       'TAMIL UNIVERSITY':['PILLAYARPATTI'],\n",
    "       'PILLAYARPATTI':['KALAIMAGAL'],\n",
    "        'KALAIMAGAL':['PMIST'],\n",
    "        'PMIST':['MAIN CANTEEN'],\n",
    "        'MAIN CANTEEN':['GORA COTTAGE'],\n",
    "        'GORA COTTAGE':['PKC BLOCK']}\n",
    "        \n",
    "    \n",
    "        "
   ]
  },
  {
   "cell_type": "code",
   "execution_count": 7,
   "id": "a4a30a92",
   "metadata": {},
   "outputs": [],
   "source": [
    "from collections import deque\n",
    "def BFS(Place,start,goal):\n",
    "    visited=[]\n",
    "    queue=deque([start])\n",
    "    while queue:\n",
    "        node=queue.popleft()\n",
    "        if node not in visited:\n",
    "            visited.append(node)\n",
    "            print(\"I have visited:\",node)\n",
    "            neighbournode=Place[node]\n",
    "            if node==goal:\n",
    "                print(\"I have reached the goal,the path Itravelled\",visited)\n",
    "                \n",
    "            for neighbours in neighbournode:\n",
    "                    queue.append(neighbours)\n",
    "                    "
   ]
  },
  {
   "cell_type": "code",
   "execution_count": 9,
   "id": "4ebe0ba4",
   "metadata": {},
   "outputs": [
    {
     "name": "stdout",
     "output_type": "stream",
     "text": [
      "I have visited: SUNDARAM PAINTS\n",
      "I have visited: TAMIL UNIVERSITY\n",
      "I have visited: PILLAYARPATTI\n",
      "I have visited: KALAIMAGAL\n",
      "I have visited: PMIST\n",
      "I have visited: MAIN CANTEEN\n",
      "I have visited: GORA COTTAGE\n",
      "I have visited: PKC BLOCK\n"
     ]
    },
    {
     "ename": "KeyError",
     "evalue": "'PKC BLOCK'",
     "output_type": "error",
     "traceback": [
      "\u001b[1;31m---------------------------------------------------------------------------\u001b[0m",
      "\u001b[1;31mKeyError\u001b[0m                                  Traceback (most recent call last)",
      "Cell \u001b[1;32mIn[9], line 1\u001b[0m\n\u001b[1;32m----> 1\u001b[0m BFS(Place,\u001b[38;5;124m'\u001b[39m\u001b[38;5;124mSUNDARAM PAINTS\u001b[39m\u001b[38;5;124m'\u001b[39m,\u001b[38;5;124m'\u001b[39m\u001b[38;5;124mPKC BLOCK\u001b[39m\u001b[38;5;124m'\u001b[39m)\n",
      "Cell \u001b[1;32mIn[7], line 10\u001b[0m, in \u001b[0;36mBFS\u001b[1;34m(Place, start, goal)\u001b[0m\n\u001b[0;32m      8\u001b[0m visited\u001b[38;5;241m.\u001b[39mappend(node)\n\u001b[0;32m      9\u001b[0m \u001b[38;5;28mprint\u001b[39m(\u001b[38;5;124m\"\u001b[39m\u001b[38;5;124mI have visited:\u001b[39m\u001b[38;5;124m\"\u001b[39m,node)\n\u001b[1;32m---> 10\u001b[0m neighbournode\u001b[38;5;241m=\u001b[39mPlace[node]\n\u001b[0;32m     11\u001b[0m \u001b[38;5;28;01mif\u001b[39;00m node\u001b[38;5;241m==\u001b[39mgoal:\n\u001b[0;32m     12\u001b[0m     \u001b[38;5;28mprint\u001b[39m(\u001b[38;5;124m\"\u001b[39m\u001b[38;5;124mI have reached the goal,the path Itravelled\u001b[39m\u001b[38;5;124m\"\u001b[39m,visited)\n",
      "\u001b[1;31mKeyError\u001b[0m: 'PKC BLOCK'"
     ]
    }
   ],
   "source": [
    "BFS(Place,'SUNDARAM PAINTS','PKC BLOCK')"
   ]
  },
  {
   "cell_type": "code",
   "execution_count": null,
   "id": "4220fcbf",
   "metadata": {},
   "outputs": [],
   "source": []
  }
 ],
 "metadata": {
  "kernelspec": {
   "display_name": "Python 3 (ipykernel)",
   "language": "python",
   "name": "python3"
  },
  "language_info": {
   "codemirror_mode": {
    "name": "ipython",
    "version": 3
   },
   "file_extension": ".py",
   "mimetype": "text/x-python",
   "name": "python",
   "nbconvert_exporter": "python",
   "pygments_lexer": "ipython3",
   "version": "3.11.4"
  }
 },
 "nbformat": 4,
 "nbformat_minor": 5
}
