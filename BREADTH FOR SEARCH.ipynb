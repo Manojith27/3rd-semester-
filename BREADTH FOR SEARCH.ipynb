{
 "cells": [
  {
   "cell_type": "code",
   "execution_count": 19,
   "id": "5d596e3b",
   "metadata": {},
   "outputs": [],
   "source": [
    "graph={'PKC':['STADIUM','PARKING','TREE'],\n",
    "        'STADIUM':['MAIN BLOCK'],\n",
    "        'PARKING':['JUNCTION'],\n",
    "        'JUNCTION':['ENTRANCE','MAIN BLOCK'],\n",
    "        'ENTRANCE':['JUNCTION'],\n",
    "        'MAIN BLOCK':['JUNCTION'],\n",
    "        'TREE':['PKC']}"
   ]
  },
  {
   "cell_type": "code",
   "execution_count": 20,
   "id": "49b0aa37",
   "metadata": {},
   "outputs": [],
   "source": [
    "from collections import deque\n",
    "def BFS(graph,start,goal):\n",
    "    visited=[]\n",
    "    queue=deque([start])\n",
    "    while queue:\n",
    "        node=queue.popleft()\n",
    "        if node not in visited:\n",
    "            visited.append(node)\n",
    "            print(\"I have visited:\",node)\n",
    "            neighbournode=graph[node]\n",
    "            if node==goal:\n",
    "                print(\"I have reached the goal,the path Itravelled\",visited)\n",
    "                \n",
    "            for neighbours in neighbournode:\n",
    "                    queue.append(neighbours)\n",
    "                    \n",
    "                    "
   ]
  },
  {
   "cell_type": "code",
   "execution_count": 21,
   "id": "628aa368",
   "metadata": {},
   "outputs": [
    {
     "name": "stdout",
     "output_type": "stream",
     "text": [
      "I have visited: STADIUM\n",
      "I have visited: MAIN BLOCK\n",
      "I have visited: JUNCTION\n",
      "I have reached the goal,the path Itravelled ['STADIUM', 'MAIN BLOCK', 'JUNCTION']\n",
      "I have visited: ENTRANCE\n"
     ]
    }
   ],
   "source": [
    "BFS(graph,'STADIUM','JUNCTION')"
   ]
  },
  {
   "cell_type": "code",
   "execution_count": null,
   "id": "058078eb",
   "metadata": {},
   "outputs": [],
   "source": []
  },
  {
   "cell_type": "code",
   "execution_count": null,
   "id": "62ad50d9",
   "metadata": {},
   "outputs": [],
   "source": [
    "\n"
   ]
  }
 ],
 "metadata": {
  "kernelspec": {
   "display_name": "Python 3 (ipykernel)",
   "language": "python",
   "name": "python3"
  },
  "language_info": {
   "codemirror_mode": {
    "name": "ipython",
    "version": 3
   },
   "file_extension": ".py",
   "mimetype": "text/x-python",
   "name": "python",
   "nbconvert_exporter": "python",
   "pygments_lexer": "ipython3",
   "version": "3.11.4"
  }
 },
 "nbformat": 4,
 "nbformat_minor": 5
}
